{
 "cells": [
  {
   "cell_type": "markdown",
   "metadata": {},
   "source": [
    "# Install"
   ]
  },
  {
   "cell_type": "code",
   "execution_count": 2,
   "metadata": {},
   "outputs": [],
   "source": [
    "# pip install labelme"
   ]
  },
  {
   "cell_type": "code",
   "execution_count": 4,
   "metadata": {},
   "outputs": [],
   "source": [
    "# pip install opencv-python-headless"
   ]
  },
  {
   "cell_type": "code",
   "execution_count": 6,
   "metadata": {},
   "outputs": [],
   "source": [
    "# pip install scikit-image"
   ]
  },
  {
   "cell_type": "markdown",
   "metadata": {},
   "source": [
    "# Jason to metrix"
   ]
  },
  {
   "cell_type": "markdown",
   "metadata": {},
   "source": [
    "Function"
   ]
  },
  {
   "cell_type": "code",
   "execution_count": 17,
   "metadata": {
    "tags": []
   },
   "outputs": [],
   "source": [
    "import math\n",
    "import uuid\n",
    "\n",
    "import numpy as np\n",
    "import PIL.Image\n",
    "import PIL.ImageDraw\n",
    "\n",
    "from labelme.logger import logger"
   ]
  },
  {
   "cell_type": "code",
   "execution_count": 18,
   "metadata": {
    "jupyter": {
     "source_hidden": true
    },
    "tags": []
   },
   "outputs": [],
   "source": [
    "def polygons_to_mask(img_shape, polygons, shape_type=None):\n",
    "    logger.warning(\n",
    "        \"The 'polygons_to_mask' function is deprecated, \"\n",
    "        \"use 'shape_to_mask' instead.\"\n",
    "    )\n",
    "    return shape_to_mask(img_shape, points=polygons, shape_type=shape_type)\n",
    "\n",
    "\n",
    "def shape_to_mask(\n",
    "    img_shape, points, shape_type=None, line_width=10, point_size=5\n",
    "):\n",
    "    mask = np.zeros(img_shape[:2], dtype=np.uint8)\n",
    "    mask = PIL.Image.fromarray(mask)\n",
    "    draw = PIL.ImageDraw.Draw(mask)\n",
    "    xy = [tuple(point) for point in points]\n",
    "    if shape_type == \"circle\":\n",
    "        assert len(xy) == 2, \"Shape of shape_type=circle must have 2 points\"\n",
    "        (cx, cy), (px, py) = xy\n",
    "        d = math.sqrt((cx - px) ** 2 + (cy - py) ** 2)\n",
    "        draw.ellipse([cx - d, cy - d, cx + d, cy + d], outline=1, fill=1)\n",
    "    elif shape_type == \"rectangle\":\n",
    "        assert len(xy) == 2, \"Shape of shape_type=rectangle must have 2 points\"\n",
    "        draw.rectangle(xy, outline=1, fill=1)\n",
    "    elif shape_type == \"line\":\n",
    "        assert len(xy) == 2, \"Shape of shape_type=line must have 2 points\"\n",
    "        draw.line(xy=xy, fill=1, width=line_width)\n",
    "    elif shape_type == \"linestrip\":\n",
    "        draw.line(xy=xy, fill=1, width=line_width)\n",
    "    elif shape_type == \"point\":\n",
    "        assert len(xy) == 1, \"Shape of shape_type=point must have 1 points\"\n",
    "        cx, cy = xy[0]\n",
    "        r = point_size\n",
    "        draw.ellipse([cx - r, cy - r, cx + r, cy + r], outline=1, fill=1)\n",
    "    else:\n",
    "        assert len(xy) > 2, \"Polygon must have points more than 2\"\n",
    "        draw.polygon(xy=xy, outline=1, fill=1)\n",
    "    mask = np.array(mask, dtype=bool)\n",
    "    return mask\n",
    "\n",
    "\n",
    "def shapes_to_label(img_shape, shapes, label_name_to_value):\n",
    "    cls = np.zeros(img_shape[:2], dtype=np.int32)\n",
    "    ins = np.zeros_like(cls)\n",
    "    instances = []\n",
    "    for shape in shapes:\n",
    "        points = shape[\"points\"]\n",
    "        label = shape[\"label\"]\n",
    "        group_id = shape.get(\"group_id\")\n",
    "        if group_id is None:\n",
    "            group_id = uuid.uuid1()\n",
    "        shape_type = shape.get(\"shape_type\", None)\n",
    "\n",
    "        cls_name = label\n",
    "        instance = (cls_name, group_id)\n",
    "\n",
    "        if instance not in instances:\n",
    "            instances.append(instance)\n",
    "        ins_id = instances.index(instance) + 1\n",
    "        cls_id = label_name_to_value[cls_name]\n",
    "\n",
    "        mask = shape_to_mask(img_shape[:2], points, shape_type)\n",
    "        cls[mask] = cls_id\n",
    "        ins[mask] = ins_id\n",
    "\n",
    "    return cls, ins\n",
    "\n",
    "\n",
    "def labelme_shapes_to_label(img_shape, shapes):\n",
    "    logger.warn(\n",
    "        \"labelme_shapes_to_label is deprecated, so please use \"\n",
    "        \"shapes_to_label.\"\n",
    "    )\n",
    "\n",
    "    label_name_to_value = {\"_background_\": 0}\n",
    "    for shape in shapes:\n",
    "        label_name = shape[\"label\"]\n",
    "        if label_name in label_name_to_value:\n",
    "            label_value = label_name_to_value[label_name]\n",
    "        else:\n",
    "            label_value = len(label_name_to_value)\n",
    "            label_name_to_value[label_name] = label_value\n",
    "\n",
    "    lbl, _ = shapes_to_label(img_shape, shapes, label_name_to_value)\n",
    "    return lbl, label_name_to_value\n",
    "\n",
    "\n",
    "def masks_to_bboxes(masks):\n",
    "    if masks.ndim != 3:\n",
    "        raise ValueError(\n",
    "            \"masks.ndim must be 3, but it is {}\".format(masks.ndim)\n",
    "        )\n",
    "    if masks.dtype != bool:\n",
    "        raise ValueError(\n",
    "            \"masks.dtype must be bool type, but it is {}\".format(masks.dtype)\n",
    "        )\n",
    "    bboxes = []\n",
    "    for mask in masks:\n",
    "        where = np.argwhere(mask)\n",
    "        (y1, x1), (y2, x2) = where.min(0), where.max(0) + 1\n",
    "        bboxes.append((y1, x1, y2, x2))\n",
    "    bboxes = np.asarray(bboxes, dtype=np.float32)\n",
    "    return bboxes"
   ]
  },
  {
   "cell_type": "markdown",
   "metadata": {},
   "source": [
    "version 5"
   ]
  },
  {
   "cell_type": "code",
   "execution_count": 19,
   "metadata": {
    "tags": []
   },
   "outputs": [],
   "source": [
    "import json\n",
    "import matplotlib.pyplot as plt\n",
    "import numpy as np\n",
    "from skimage.transform import resize\n",
    "import cv2"
   ]
  },
  {
   "cell_type": "code",
   "execution_count": 20,
   "metadata": {
    "tags": []
   },
   "outputs": [],
   "source": [
    "#draw json function\n",
    "def json_to_matrix(path,size):\n",
    "    with open(path, \"r\",encoding=\"utf-8\") as f:\n",
    "        dj = json.load(f)\n",
    "\n",
    "    #Generate metrix [0]*size(img_height, img_width) \n",
    "    lung_lobe = np.zeros((dj['imageHeight'], dj['imageWidth']))\n",
    "    image_Lesion = np.zeros((dj['imageHeight'], dj['imageWidth']))\n",
    "    '''\n",
    "    Label class\n",
    "    RUL :right upper lobe:   1\n",
    "    RLL :right lower lobe:   2\n",
    "    RML :right middle lobe:  3\n",
    "    LUL :left upper lobe:    4\n",
    "    LLL :left lower lobe:    5\n",
    "    Lesion :left lower lobe: 6\n",
    "    '''\n",
    "\n",
    "  #Draw point in metrix above\n",
    "    for i in range(len(dj['shapes'])):\n",
    "        mask = shape_to_mask((dj['imageHeight'],dj['imageWidth']), dj['shapes'][i]['points'], shape_type=None,line_width=1, point_size=1)\n",
    "        mask_img = mask.astype(np.int)#boolean to 0,Convert to 1\n",
    "        if dj['shapes'][i]['label'] == \"RUL\": \n",
    "            lung_lobe = lung_lobe + mask_img*1\n",
    "        elif dj['shapes'][i]['label'] == \"RLL\":\n",
    "            lung_lobe = lung_lobe + mask_img*2\n",
    "        \n",
    "        lung_lobe = np.where(lung_lobe==3, 2, lung_lobe) # pixel อนทับกันละหว่าง RUL, RLL =3เลยให้ label เป็น RLL (2) แทน\n",
    "            \n",
    "    for i in range(len(dj['shapes'])):\n",
    "        mask = shape_to_mask((dj['imageHeight'],dj['imageWidth']), dj['shapes'][i]['points'], shape_type=None,line_width=1, point_size=1)\n",
    "        mask_img = mask.astype(np.int)#boolean to 0,Convert to 1\n",
    "        if dj['shapes'][i]['label'] == \"RML\":\n",
    "            lung_lobe = lung_lobe + mask_img*3\n",
    "        \n",
    "        lung_lobe = np.where(lung_lobe==5, 3, lung_lobe) # pixel อนทับกันละหว่าง RLL, RML =5เลยให้ label เป็น RML (3) แทน\n",
    "        lung_lobe = np.where(lung_lobe==6, 3, lung_lobe) # pixel อนทับกันละหว่าง RUL, RLL, RML=6เลยให้ label เป็น RML (3) แทน\n",
    "        \n",
    "  \n",
    "    for i in range(len(dj['shapes'])):\n",
    "        mask = shape_to_mask((dj['imageHeight'],dj['imageWidth']), dj['shapes'][i]['points'], shape_type=None,line_width=1, point_size=1)\n",
    "        mask_img = mask.astype(np.int)#boolean to 0,Convert to 1\n",
    "        \n",
    "        if dj['shapes'][i]['label'] == \"LUL\":\n",
    "            lung_lobe = lung_lobe + mask_img*4\n",
    "        elif dj['shapes'][i]['label'] == \"LLL\":\n",
    "            lung_lobe = lung_lobe + mask_img*5\n",
    "        elif dj['shapes'][i]['label'] == \"Lesion\":\n",
    "            image_Lesion = image_Lesion + mask_img\n",
    "        \n",
    "        lung_lobe = np.where(lung_lobe==8, 4, lung_lobe) # pixel ซ้อนทับกันละหว่าง LUL, LUL =8เลยให้ label เป็น LUL (4) แทน\n",
    "        lung_lobe = np.where(lung_lobe==9, 5, lung_lobe) # pixel ซ้อนทับกันละหว่าง LUL, LLL =9เลยให้ label เป็น LLL (5) แทน\n",
    "        lung_lobe = np.where(lung_lobe==10, 5, lung_lobe) # pixel ซ้อนทับกันละหว่าง LLL, LLL =10 เลยให้ label เป็น LLL (5) แทน\n",
    "        image_Lesion =  np.where(image_Lesion>=2, 1, image_Lesion) #บางทีlabelทับกัน\n",
    "\n",
    "    # resize to 128x128\n",
    "    lung_lobe = cv2.resize(lung_lobe, (size, size), interpolation = cv2.INTER_NEAREST) # cv2.INTER_AREA for resize image\n",
    "    image_Lesion = cv2.resize(image_Lesion, (size, size), interpolation = cv2.INTER_NEAREST)\n",
    "  \n",
    "    # combine Lung Lobe and Lesion\n",
    "    lung_lobe_Lesion = image_Lesion.copy()\n",
    "    for x in range(len(image_Lesion)):\n",
    "        for y in range(len(image_Lesion)):\n",
    "            if image_Lesion[y][x] == 0:\n",
    "                lung_lobe_Lesion[y][x] = lung_lobe[y][x]\n",
    "            else:\n",
    "                lung_lobe_Lesion[y][x] = 6\n",
    "    \n",
    "    \n",
    "    return (np.asarray(lung_lobe, dtype=\"uint8\"), np.asarray(image_Lesion, dtype=\"uint8\"), np.asarray(lung_lobe_Lesion, dtype=\"uint8\"))"
   ]
  },
  {
   "cell_type": "markdown",
   "metadata": {},
   "source": [
    "# Make Mask (numpy array) for loop"
   ]
  },
  {
   "cell_type": "code",
   "execution_count": 21,
   "metadata": {},
   "outputs": [
    {
     "data": {
      "text/plain": [
       "'/root/Project/LungLobe'"
      ]
     },
     "execution_count": 21,
     "metadata": {},
     "output_type": "execute_result"
    }
   ],
   "source": [
    "# check path\n",
    "import os\n",
    "os.getcwd()"
   ]
  },
  {
   "cell_type": "markdown",
   "metadata": {},
   "source": [
    "### Path setting"
   ]
  },
  {
   "cell_type": "code",
   "execution_count": 36,
   "metadata": {},
   "outputs": [
    {
     "data": {
      "text/plain": [
       "'/tf/Project/LungLobe/Verification Lot 2'"
      ]
     },
     "execution_count": 36,
     "metadata": {},
     "output_type": "execute_result"
    }
   ],
   "source": [
    "path_ = '/tf/Project/LungLobe/'\n",
    "# dataset = 'Verification Lot 1'\n",
    "dataset = 'Verification Lot 2'\n",
    "# dataset = 'Unverified'\n",
    "path = path_+dataset\n",
    "path"
   ]
  },
  {
   "cell_type": "code",
   "execution_count": 37,
   "metadata": {},
   "outputs": [
    {
     "name": "stdout",
     "output_type": "stream",
     "text": [
      "9\n",
      "['Mild 08', 'Moderate 03', 'Moderate 06', 'Moderate 07', 'Moderate 08', 'Severe 02', 'Severe 03', 'Severe 07', 'Severe 08']\n"
     ]
    }
   ],
   "source": [
    "dirPath = [i for i in os.listdir(path)]\n",
    "dirPath.remove('.ipynb_checkpoints')\n",
    "print(len(dirPath))\n",
    "print(dirPath)"
   ]
  },
  {
   "cell_type": "markdown",
   "metadata": {},
   "source": [
    "### Save path"
   ]
  },
  {
   "cell_type": "code",
   "execution_count": 38,
   "metadata": {},
   "outputs": [
    {
     "data": {
      "text/plain": [
       "'/tf/Project/LungLobe/Tif_256x256_StartEnd/masks/'"
      ]
     },
     "execution_count": 38,
     "metadata": {},
     "output_type": "execute_result"
    }
   ],
   "source": [
    "# save_folder = 'Tif_256x256/'\n",
    "# save_folder = 'Tif_512x512/'\n",
    "save_folder = 'Tif_256x256_StartEnd/'\n",
    "save_path_mask = path_+save_folder+'masks/'\n",
    "save_path_mask"
   ]
  },
  {
   "cell_type": "markdown",
   "metadata": {
    "tags": []
   },
   "source": [
    "### Tiff_256x256, Tiff_512x512"
   ]
  },
  {
   "cell_type": "code",
   "execution_count": 39,
   "metadata": {},
   "outputs": [],
   "source": [
    "import re\n",
    "import numpy as np\n",
    "from tifffile import imsave"
   ]
  },
  {
   "cell_type": "code",
   "execution_count": 27,
   "metadata": {
    "collapsed": true,
    "jupyter": {
     "outputs_hidden": true
    },
    "tags": []
   },
   "outputs": [
    {
     "name": "stdout",
     "output_type": "stream",
     "text": [
      "Mild 08 process...\n",
      "/tf/Project/LungLobe/Verification Lot 2/Mild 08\n"
     ]
    },
    {
     "name": "stderr",
     "output_type": "stream",
     "text": [
      "/tmp/ipykernel_700/62405243.py:22: DeprecationWarning: `np.int` is a deprecated alias for the builtin `int`. To silence this warning, use `int` by itself. Doing this will not modify any behavior and is safe. When replacing `np.int`, you may wish to use e.g. `np.int64` or `np.int32` to specify the precision. If you wish to review your current use, check the release note link for additional information.\n",
      "Deprecated in NumPy 1.20; for more details and guidance: https://numpy.org/devdocs/release/1.20.0-notes.html#deprecations\n",
      "  mask_img = mask.astype(np.int)#boolean to 0,Convert to 1\n",
      "/tmp/ipykernel_700/62405243.py:32: DeprecationWarning: `np.int` is a deprecated alias for the builtin `int`. To silence this warning, use `int` by itself. Doing this will not modify any behavior and is safe. When replacing `np.int`, you may wish to use e.g. `np.int64` or `np.int32` to specify the precision. If you wish to review your current use, check the release note link for additional information.\n",
      "Deprecated in NumPy 1.20; for more details and guidance: https://numpy.org/devdocs/release/1.20.0-notes.html#deprecations\n",
      "  mask_img = mask.astype(np.int)#boolean to 0,Convert to 1\n",
      "/tmp/ipykernel_700/62405243.py:42: DeprecationWarning: `np.int` is a deprecated alias for the builtin `int`. To silence this warning, use `int` by itself. Doing this will not modify any behavior and is safe. When replacing `np.int`, you may wish to use e.g. `np.int64` or `np.int32` to specify the precision. If you wish to review your current use, check the release note link for additional information.\n",
      "Deprecated in NumPy 1.20; for more details and guidance: https://numpy.org/devdocs/release/1.20.0-notes.html#deprecations\n",
      "  mask_img = mask.astype(np.int)#boolean to 0,Convert to 1\n"
     ]
    },
    {
     "name": "stdout",
     "output_type": "stream",
     "text": [
      "(95, 256, 256)\n"
     ]
    },
    {
     "name": "stderr",
     "output_type": "stream",
     "text": [
      "/tmp/ipykernel_700/2889547243.py:49: DeprecationWarning: <tifffile.imsave> is deprecated. Use tifffile.imwrite\n",
      "  imsave(path_to_save_tiff, lung_lobe_files_array) # save only lung lobe\n"
     ]
    },
    {
     "name": "stdout",
     "output_type": "stream",
     "text": [
      "save: /tf/Project/LungLobe/Tif_256x256/masks/Mild_08.tif\n",
      "Moderate 03 process...\n",
      "/tf/Project/LungLobe/Verification Lot 2/Moderate 03\n",
      "(104, 256, 256)\n",
      "save: /tf/Project/LungLobe/Tif_256x256/masks/Moderate_03.tif\n",
      "Moderate 06 process...\n",
      "/tf/Project/LungLobe/Verification Lot 2/Moderate 06\n",
      "(109, 256, 256)\n",
      "save: /tf/Project/LungLobe/Tif_256x256/masks/Moderate_06.tif\n",
      "Moderate 07 process...\n",
      "/tf/Project/LungLobe/Verification Lot 2/Moderate 07\n",
      "(113, 256, 256)\n",
      "save: /tf/Project/LungLobe/Tif_256x256/masks/Moderate_07.tif\n",
      "Moderate 08 process...\n",
      "/tf/Project/LungLobe/Verification Lot 2/Moderate 08\n",
      "(133, 256, 256)\n",
      "save: /tf/Project/LungLobe/Tif_256x256/masks/Moderate_08.tif\n",
      "Severe 02 process...\n",
      "/tf/Project/LungLobe/Verification Lot 2/Severe 02\n",
      "(111, 256, 256)\n",
      "save: /tf/Project/LungLobe/Tif_256x256/masks/Severe_02.tif\n",
      "Severe 03 process...\n",
      "/tf/Project/LungLobe/Verification Lot 2/Severe 03\n",
      "(168, 256, 256)\n",
      "save: /tf/Project/LungLobe/Tif_256x256/masks/Severe_03.tif\n",
      "Severe 07 process...\n",
      "/tf/Project/LungLobe/Verification Lot 2/Severe 07\n",
      "(100, 256, 256)\n",
      "save: /tf/Project/LungLobe/Tif_256x256/masks/Severe_07.tif\n",
      "Severe 08 process...\n",
      "/tf/Project/LungLobe/Verification Lot 2/Severe 08\n",
      "(115, 256, 256)\n",
      "save: /tf/Project/LungLobe/Tif_256x256/masks/Severe_08.tif\n",
      "finish!\n"
     ]
    }
   ],
   "source": [
    "#set image and mask size ==============\n",
    "#@markdown Size: 128, 224, 256, 512\n",
    "img_size =  256\n",
    "\n",
    "for file in dirPath:\n",
    "    path_ = os.path.join(path, file)\n",
    "    print(file+' process...')\n",
    "    print(path_)\n",
    "    #Initiate Parameter\n",
    "    lung_lobe_files = []\n",
    "    Lesion_files = []\n",
    "    lung_lobe_Lesion_files = []\n",
    "    \n",
    "    ####Create .tif function####\n",
    "    dirFiles = [i for i in os.listdir(path_)]\n",
    "    dirFiles.sort(key=lambda f: int(re.sub('\\D', '', f)))\n",
    "    \n",
    "    for i in dirFiles:\n",
    "    \n",
    "        if 'jpg' in i: \n",
    "            file_name  = i[0:re.search('.jpg', i).span()[0]]+'.json'\n",
    "            file_path = os.path.join(path_, file_name)\n",
    "          \n",
    "            if os.path.exists(file_path): #if already have  json\n",
    "                lung_lobe, image_Lesion, lung_lobe_Lesion = json_to_matrix(file_path, img_size)\n",
    "            else: #If dont have json, create matrix 0 size(img_size*img_size)\n",
    "                lung_lobe = np.zeros((img_size, img_size))\n",
    "                image_Lesion = np.zeros((img_size, img_size))\n",
    "                lung_lobe_Lesion = np.zeros((img_size, img_size))\n",
    "        \n",
    "            lung_lobe_files.append(lung_lobe)\n",
    "            Lesion_files.append(image_Lesion)\n",
    "            lung_lobe_Lesion_files.append(lung_lobe_Lesion)\n",
    "        else: continue\n",
    "    \n",
    "    # convert to array\n",
    "    lung_lobe_files_array = np.asarray(np.array(lung_lobe_files), dtype=\"uint8\" )\n",
    "    print(lung_lobe_files_array.shape)\n",
    "    # Lesion_files_array = np.asarray(np.array(Lesion_files), dtype=\"uint8\" )\n",
    "    # lung_lobe_Lesion_files_array = np.asarray(np.array(lung_lobe_Lesion_files), dtype=\"uint8\" )\n",
    "    # print(lung_lobe_Lesion_files_array.shape)\n",
    "    \n",
    "    # Train\n",
    "    path_to_save_tiff = save_path_mask+file[:-3]+'_'+file[-2:]+'.tif'\n",
    "    \n",
    "    # Test1\n",
    "    #  path_to_save_tiff = save_path+file+'.tif'\n",
    "    # save shape (slice, 256, 256)\n",
    "    imsave(path_to_save_tiff, lung_lobe_files_array) # save only lung lobe\n",
    "    # imsave(path_to_save_tiff, lung_lobe_Lesion_files_array) # save lung lobe combine lesion\n",
    "    print('save: '+path_to_save_tiff)\n",
    "print('finish!')"
   ]
  },
  {
   "cell_type": "markdown",
   "metadata": {},
   "source": [
    "### Tiff_256x256 เอาเฉพาะ slice ที่มีการ label"
   ]
  },
  {
   "cell_type": "code",
   "execution_count": 40,
   "metadata": {},
   "outputs": [],
   "source": [
    "import re\n",
    "import numpy as np\n",
    "from tifffile import imsave"
   ]
  },
  {
   "cell_type": "code",
   "execution_count": 41,
   "metadata": {},
   "outputs": [
    {
     "name": "stdout",
     "output_type": "stream",
     "text": [
      "Mild 08 process...\n",
      "/tf/Project/LungLobe/Verification Lot 2/Mild 08\n"
     ]
    },
    {
     "name": "stderr",
     "output_type": "stream",
     "text": [
      "/tmp/ipykernel_700/62405243.py:22: DeprecationWarning: `np.int` is a deprecated alias for the builtin `int`. To silence this warning, use `int` by itself. Doing this will not modify any behavior and is safe. When replacing `np.int`, you may wish to use e.g. `np.int64` or `np.int32` to specify the precision. If you wish to review your current use, check the release note link for additional information.\n",
      "Deprecated in NumPy 1.20; for more details and guidance: https://numpy.org/devdocs/release/1.20.0-notes.html#deprecations\n",
      "  mask_img = mask.astype(np.int)#boolean to 0,Convert to 1\n",
      "/tmp/ipykernel_700/62405243.py:32: DeprecationWarning: `np.int` is a deprecated alias for the builtin `int`. To silence this warning, use `int` by itself. Doing this will not modify any behavior and is safe. When replacing `np.int`, you may wish to use e.g. `np.int64` or `np.int32` to specify the precision. If you wish to review your current use, check the release note link for additional information.\n",
      "Deprecated in NumPy 1.20; for more details and guidance: https://numpy.org/devdocs/release/1.20.0-notes.html#deprecations\n",
      "  mask_img = mask.astype(np.int)#boolean to 0,Convert to 1\n",
      "/tmp/ipykernel_700/62405243.py:42: DeprecationWarning: `np.int` is a deprecated alias for the builtin `int`. To silence this warning, use `int` by itself. Doing this will not modify any behavior and is safe. When replacing `np.int`, you may wish to use e.g. `np.int64` or `np.int32` to specify the precision. If you wish to review your current use, check the release note link for additional information.\n",
      "Deprecated in NumPy 1.20; for more details and guidance: https://numpy.org/devdocs/release/1.20.0-notes.html#deprecations\n",
      "  mask_img = mask.astype(np.int)#boolean to 0,Convert to 1\n"
     ]
    },
    {
     "name": "stdout",
     "output_type": "stream",
     "text": [
      "(58, 256, 256)\n"
     ]
    },
    {
     "name": "stderr",
     "output_type": "stream",
     "text": [
      "/tmp/ipykernel_700/2793784858.py:47: DeprecationWarning: <tifffile.imsave> is deprecated. Use tifffile.imwrite\n",
      "  imsave(path_to_save_tiff, lung_lobe_files_array) # save only lung lobe\n"
     ]
    },
    {
     "name": "stdout",
     "output_type": "stream",
     "text": [
      "save: /tf/Project/LungLobe/Tif_256x256_StartEnd/masks/Mild_08.tif\n",
      "Moderate 03 process...\n",
      "/tf/Project/LungLobe/Verification Lot 2/Moderate 03\n",
      "(72, 256, 256)\n",
      "save: /tf/Project/LungLobe/Tif_256x256_StartEnd/masks/Moderate_03.tif\n",
      "Moderate 06 process...\n",
      "/tf/Project/LungLobe/Verification Lot 2/Moderate 06\n",
      "(81, 256, 256)\n",
      "save: /tf/Project/LungLobe/Tif_256x256_StartEnd/masks/Moderate_06.tif\n",
      "Moderate 07 process...\n",
      "/tf/Project/LungLobe/Verification Lot 2/Moderate 07\n",
      "(77, 256, 256)\n",
      "save: /tf/Project/LungLobe/Tif_256x256_StartEnd/masks/Moderate_07.tif\n",
      "Moderate 08 process...\n",
      "/tf/Project/LungLobe/Verification Lot 2/Moderate 08\n",
      "(86, 256, 256)\n",
      "save: /tf/Project/LungLobe/Tif_256x256_StartEnd/masks/Moderate_08.tif\n",
      "Severe 02 process...\n",
      "/tf/Project/LungLobe/Verification Lot 2/Severe 02\n",
      "(60, 256, 256)\n",
      "save: /tf/Project/LungLobe/Tif_256x256_StartEnd/masks/Severe_02.tif\n",
      "Severe 03 process...\n",
      "/tf/Project/LungLobe/Verification Lot 2/Severe 03\n",
      "(123, 256, 256)\n",
      "save: /tf/Project/LungLobe/Tif_256x256_StartEnd/masks/Severe_03.tif\n",
      "Severe 07 process...\n",
      "/tf/Project/LungLobe/Verification Lot 2/Severe 07\n",
      "(84, 256, 256)\n",
      "save: /tf/Project/LungLobe/Tif_256x256_StartEnd/masks/Severe_07.tif\n",
      "Severe 08 process...\n",
      "/tf/Project/LungLobe/Verification Lot 2/Severe 08\n",
      "(79, 256, 256)\n",
      "save: /tf/Project/LungLobe/Tif_256x256_StartEnd/masks/Severe_08.tif\n",
      "finish!\n"
     ]
    }
   ],
   "source": [
    "#set image and mask size ==============\n",
    "#@markdown Size: 128, 224, 256, 512\n",
    "img_size =  256\n",
    "\n",
    "for file in dirPath:\n",
    "    path_ = os.path.join(path, file)\n",
    "    print(file+' process...')\n",
    "    print(path_)\n",
    "    #Initiate Parameter\n",
    "    lung_lobe_files = []\n",
    "    Lesion_files = []\n",
    "    lung_lobe_Lesion_files = []\n",
    "    \n",
    "    ####Create .tif function####\n",
    "    dirFiles = [i for i in os.listdir(path_)]\n",
    "    dirFiles.sort(key=lambda f: int(re.sub('\\D', '', f)))\n",
    "    \n",
    "    for i in dirFiles:\n",
    "    \n",
    "        if 'jpg' in i: \n",
    "            file_name  = i[0:re.search('.jpg', i).span()[0]]+'.json'\n",
    "            file_path = os.path.join(path_, file_name)\n",
    "          \n",
    "            if os.path.exists(file_path): #if already have  json\n",
    "                lung_lobe, image_Lesion, lung_lobe_Lesion = json_to_matrix(file_path, img_size)\n",
    "            else: #If dont have json, skip this slice\n",
    "                continue\n",
    "                \n",
    "            lung_lobe_files.append(lung_lobe)\n",
    "            Lesion_files.append(image_Lesion)\n",
    "            lung_lobe_Lesion_files.append(lung_lobe_Lesion)\n",
    "        else: continue\n",
    "    \n",
    "    # convert to array\n",
    "    lung_lobe_files_array = np.asarray(np.array(lung_lobe_files), dtype=\"uint8\" )\n",
    "    print(lung_lobe_files_array.shape)\n",
    "    # Lesion_files_array = np.asarray(np.array(Lesion_files), dtype=\"uint8\" )\n",
    "    # lung_lobe_Lesion_files_array = np.asarray(np.array(lung_lobe_Lesion_files), dtype=\"uint8\" )\n",
    "    # print(lung_lobe_Lesion_files_array.shape)\n",
    "    \n",
    "    # Train\n",
    "    path_to_save_tiff = save_path_mask+file[:-3]+'_'+file[-2:]+'.tif'\n",
    "    \n",
    "    # Test1\n",
    "    #  path_to_save_tiff = save_path+file+'.tif'\n",
    "    # save shape (slice, 256, 256)\n",
    "    imsave(path_to_save_tiff, lung_lobe_files_array) # save only lung lobe\n",
    "    # imsave(path_to_save_tiff, lung_lobe_Lesion_files_array) # save lung lobe combine lesion\n",
    "    print('save: '+path_to_save_tiff)\n",
    "print('finish!')"
   ]
  },
  {
   "cell_type": "markdown",
   "metadata": {},
   "source": [
    "# Image to Tif file for loop"
   ]
  },
  {
   "cell_type": "code",
   "execution_count": 3,
   "metadata": {},
   "outputs": [],
   "source": [
    "import os \n",
    "import re\n",
    "import numpy as np\n",
    "from PIL import Image\n",
    "import cv2\n",
    "from tifffile import imsave"
   ]
  },
  {
   "cell_type": "markdown",
   "metadata": {},
   "source": [
    "contrast function"
   ]
  },
  {
   "cell_type": "code",
   "execution_count": 4,
   "metadata": {
    "jupyter": {
     "source_hidden": true
    },
    "tags": []
   },
   "outputs": [],
   "source": [
    "# change contrast\n",
    "def apply_brightness_contrast(input_img, brightness = 0, contrast = 0):\n",
    "    \n",
    "    if brightness != 0:\n",
    "        if brightness > 0:\n",
    "            shadow = brightness\n",
    "            highlight = 255\n",
    "        else:\n",
    "            shadow = 0\n",
    "            highlight = 255 + brightness\n",
    "        alpha_b = (highlight - shadow)/255\n",
    "        gamma_b = shadow\n",
    "        \n",
    "        buf = cv2.addWeighted(input_img, alpha_b, input_img, 0, gamma_b)\n",
    "    else:\n",
    "        buf = input_img.copy()\n",
    "    \n",
    "    if contrast != 0:\n",
    "        f = 131*(contrast + 127)/(127*(131-contrast))\n",
    "        alpha_c = f\n",
    "        gamma_c = 127*(1-f)\n",
    "        \n",
    "        buf = cv2.addWeighted(buf, alpha_c, buf, 0, gamma_c)\n",
    "\n",
    "    return buf"
   ]
  },
  {
   "cell_type": "markdown",
   "metadata": {},
   "source": [
    "### Path setting"
   ]
  },
  {
   "cell_type": "code",
   "execution_count": 25,
   "metadata": {},
   "outputs": [
    {
     "data": {
      "text/plain": [
       "'/tf/Project/LungLobe/Verification Lot 2'"
      ]
     },
     "execution_count": 25,
     "metadata": {},
     "output_type": "execute_result"
    }
   ],
   "source": [
    "path_ = '/tf/Project/LungLobe/'\n",
    "# dataset = 'Verification Lot 1'\n",
    "dataset = 'Verification Lot 2'\n",
    "# dataset = 'Unverified'\n",
    "path = path_+dataset\n",
    "path"
   ]
  },
  {
   "cell_type": "code",
   "execution_count": 26,
   "metadata": {},
   "outputs": [
    {
     "name": "stdout",
     "output_type": "stream",
     "text": [
      "9\n",
      "['Mild 08', 'Moderate 03', 'Moderate 06', 'Moderate 07', 'Moderate 08', 'Severe 02', 'Severe 03', 'Severe 07', 'Severe 08']\n"
     ]
    }
   ],
   "source": [
    "dirPath = [i for i in os.listdir(path)]\n",
    "dirPath.remove('.ipynb_checkpoints')\n",
    "print(len(dirPath))\n",
    "print(dirPath)"
   ]
  },
  {
   "cell_type": "markdown",
   "metadata": {},
   "source": [
    "Save path img"
   ]
  },
  {
   "cell_type": "code",
   "execution_count": 30,
   "metadata": {},
   "outputs": [
    {
     "data": {
      "text/plain": [
       "'/tf/Project/LungLobe/Tif_256x256/images_createCLAHE/'"
      ]
     },
     "execution_count": 30,
     "metadata": {},
     "output_type": "execute_result"
    }
   ],
   "source": [
    "save_folder = 'Tif_256x256/'\n",
    "# save_folder = 'Tif_512x512/'\n",
    "# save_folder = 'Tif_256x256_StartEnd/'\n",
    "save_path_img = path_+save_folder+'images_createCLAHE/' # images, images_createCLAHE, images_equalizeHist\n",
    "save_path_img"
   ]
  },
  {
   "cell_type": "markdown",
   "metadata": {
    "tags": []
   },
   "source": [
    "### Image -> Tiff_256x256, Tiff_512,512"
   ]
  },
  {
   "cell_type": "code",
   "execution_count": 31,
   "metadata": {
    "jupyter": {
     "source_hidden": true
    },
    "tags": []
   },
   "outputs": [],
   "source": [
    "def img_make_Tiff (path, file_list, save_path_img,contrast_type, img_size, b, c):\n",
    "    for file_ in file_list:\n",
    "        path_ = os.path.join(path, file_)\n",
    "        print(file_+' process...')\n",
    "        print(path_)\n",
    "      \n",
    "      \n",
    "        dirFiles = []\n",
    "        img_3d = []\n",
    "        for i in os.listdir(path_):\n",
    "            dirFiles.append(i)\n",
    "            dirFiles.sort(key=lambda f: int(re.sub('\\D', '', f)))\n",
    "      \n",
    "        for file in dirFiles:\n",
    "            if file[11:] == 'jpg':\n",
    "                file_name  = file[:10]+'.jpg'\n",
    "                file_path = os.path.join(path_, file_name)\n",
    "                # print(file_path)\n",
    "                if os.path.exists(file_path): #have file return => True, no file return => False\n",
    "                    image = np.array(Image.open(file_path).convert('L'))\n",
    "                    # resize to img_size\n",
    "                    image = cv2.resize(image, (img_size, img_size), interpolation = cv2.INTER_AREA)\n",
    "                    # image = resize(image, (img_size, img_size))\n",
    "                    if contrast_type == 'equalizeHist':\n",
    "                        # change contrast 1\n",
    "                        img_contrast = cv2.equalizeHist(image)\n",
    "                    elif contrast_type == 'createCLAHE':\n",
    "                        # change contrast 2\n",
    "                        clahe = cv2.createCLAHE(clipLimit=4.0, tileGridSize=(8,8))\n",
    "                        img_contrast = clahe.apply(image)\n",
    "\n",
    "                    elif contrast_type == 'manually':\n",
    "                        # change contrast 3\n",
    "                        c = contrast\n",
    "                        img_contrast = apply_brightness_contrast(image, b, c)\n",
    "                    else:\n",
    "                        img_contrast = image\n",
    "                else: print('no image file:',file_name)\n",
    "                  \n",
    "                img_3d.append(img_contrast)\n",
    "            else: continue\n",
    "      \n",
    "        # convert to array\n",
    "        array_3d_img = np.array(img_3d)\n",
    "        print(array_3d_img.shape)\n",
    "      \n",
    "        # save\n",
    "        path_to_save_tiff = save_path_img+file_[:-3]+'_'+file_[-2:]+'.tif'\n",
    "        # save shape (slice, 256, 256)\n",
    "        imsave(path_to_save_tiff, array_3d_img)\n",
    "        print('contrast_type:'+contrast_type)\n",
    "        print('save: '+path_to_save_tiff)\n",
    "    print('finish!')"
   ]
  },
  {
   "cell_type": "code",
   "execution_count": 32,
   "metadata": {},
   "outputs": [
    {
     "name": "stdout",
     "output_type": "stream",
     "text": [
      "Mild 08 process...\n",
      "/tf/Project/LungLobe/Verification Lot 2/Mild 08\n",
      "(98, 256, 256)\n"
     ]
    },
    {
     "name": "stderr",
     "output_type": "stream",
     "text": [
      "/tmp/ipykernel_707/1930640989.py:50: DeprecationWarning: <tifffile.imsave> is deprecated. Use tifffile.imwrite\n",
      "  imsave(path_to_save_tiff, array_3d_img)\n"
     ]
    },
    {
     "name": "stdout",
     "output_type": "stream",
     "text": [
      "contrast_type:createCLAHE\n",
      "save: /tf/Project/LungLobe/Tif_256x256/images_createCLAHE/Mild_08.tif\n",
      "Moderate 03 process...\n",
      "/tf/Project/LungLobe/Verification Lot 2/Moderate 03\n",
      "(104, 256, 256)\n",
      "contrast_type:createCLAHE\n",
      "save: /tf/Project/LungLobe/Tif_256x256/images_createCLAHE/Moderate_03.tif\n",
      "Moderate 06 process...\n",
      "/tf/Project/LungLobe/Verification Lot 2/Moderate 06\n",
      "(109, 256, 256)\n",
      "contrast_type:createCLAHE\n",
      "save: /tf/Project/LungLobe/Tif_256x256/images_createCLAHE/Moderate_06.tif\n",
      "Moderate 07 process...\n",
      "/tf/Project/LungLobe/Verification Lot 2/Moderate 07\n",
      "(113, 256, 256)\n",
      "contrast_type:createCLAHE\n",
      "save: /tf/Project/LungLobe/Tif_256x256/images_createCLAHE/Moderate_07.tif\n",
      "Moderate 08 process...\n",
      "/tf/Project/LungLobe/Verification Lot 2/Moderate 08\n",
      "(133, 256, 256)\n",
      "contrast_type:createCLAHE\n",
      "save: /tf/Project/LungLobe/Tif_256x256/images_createCLAHE/Moderate_08.tif\n",
      "Severe 02 process...\n",
      "/tf/Project/LungLobe/Verification Lot 2/Severe 02\n",
      "(111, 256, 256)\n",
      "contrast_type:createCLAHE\n",
      "save: /tf/Project/LungLobe/Tif_256x256/images_createCLAHE/Severe_02.tif\n",
      "Severe 03 process...\n",
      "/tf/Project/LungLobe/Verification Lot 2/Severe 03\n",
      "(168, 256, 256)\n",
      "contrast_type:createCLAHE\n",
      "save: /tf/Project/LungLobe/Tif_256x256/images_createCLAHE/Severe_03.tif\n",
      "Severe 07 process...\n",
      "/tf/Project/LungLobe/Verification Lot 2/Severe 07\n",
      "(100, 256, 256)\n",
      "contrast_type:createCLAHE\n",
      "save: /tf/Project/LungLobe/Tif_256x256/images_createCLAHE/Severe_07.tif\n",
      "Severe 08 process...\n",
      "/tf/Project/LungLobe/Verification Lot 2/Severe 08\n",
      "(115, 256, 256)\n",
      "contrast_type:createCLAHE\n",
      "save: /tf/Project/LungLobe/Tif_256x256/images_createCLAHE/Severe_08.tif\n",
      "finish!\n"
     ]
    }
   ],
   "source": [
    "# 'raw', 'createCLAHE', 'equalizeHist', 'manually'\n",
    "img_make_Tiff(path, dirPath, save_path_img, 'createCLAHE', 256, 0,0)"
   ]
  },
  {
   "cell_type": "markdown",
   "metadata": {},
   "source": [
    "### Image -> Tiff_256x256 เอาเฉพาะภาพที่มีการ label"
   ]
  },
  {
   "cell_type": "code",
   "execution_count": null,
   "metadata": {
    "jupyter": {
     "source_hidden": true
    },
    "tags": []
   },
   "outputs": [],
   "source": [
    "#สร้างไฟล์ Tiff แบบทุก slice\n",
    "print('data size > %d' %len(dirPath))\n",
    "\n",
    "#@markdown Size: 128, 224, 256, 512\n",
    "img_size = 256\n",
    "# c =  0\n",
    "# b = 0 \n",
    "\n",
    "for file_ in dirPath:\n",
    "    path_ = os.path.join(path, file_)\n",
    "    print(file_+' process...')\n",
    "    print(path_)\n",
    "  \n",
    "  \n",
    "    dirFiles = []\n",
    "    img_3d = []\n",
    "    for i in os.listdir(path_):\n",
    "        dirFiles.append(i)\n",
    "        dirFiles.sort(key=lambda f: int(re.sub('\\D', '', f)))\n",
    "  \n",
    "    for file in dirFiles:\n",
    "        if file[11:] == 'json':\n",
    "            file_name  = file[:10]+'.jpg'\n",
    "            file_path = os.path.join(path_, file_name)\n",
    "            # print(file_path)\n",
    "            if os.path.exists(file_path): #have file return => True, no file return => False\n",
    "              # print('OK')\n",
    "              image = np.array(Image.open(file_path).convert('L'))\n",
    "      \n",
    "              # resize to img_size\n",
    "              image = cv2.resize(image, (img_size, img_size), interpolation = cv2.INTER_AREA)\n",
    "              # image = resize(image, (img_size, img_size))\n",
    "      \n",
    "              # change contrast\n",
    "              # img_contrast = apply_brightness_contrast(image, b, c)\n",
    "      \n",
    "            else:\n",
    "              print('no image file:',file_name)\n",
    "              \n",
    "            img_3d.append(image)\n",
    "        else: continue\n",
    "  \n",
    "    # convert to array\n",
    "    array_3d_img = np.array(img_3d)\n",
    "    print(array_3d_img.shape)\n",
    "  \n",
    "    # save\n",
    "    path_to_save_tiff = save_path_img+file_[:-3]+'_'+file_[-2:]+'.tif'\n",
    "    # save shape (slice, 256, 256)\n",
    "    imsave(path_to_save_tiff, array_3d_img)\n",
    "    print('save: '+path_to_save_tiff)\n",
    "print('finish!')"
   ]
  },
  {
   "cell_type": "code",
   "execution_count": null,
   "metadata": {},
   "outputs": [],
   "source": []
  },
  {
   "cell_type": "code",
   "execution_count": null,
   "metadata": {},
   "outputs": [],
   "source": []
  }
 ],
 "metadata": {
  "kernelspec": {
   "display_name": "Python 3 (ipykernel)",
   "language": "python",
   "name": "python3"
  },
  "language_info": {
   "codemirror_mode": {
    "name": "ipython",
    "version": 3
   },
   "file_extension": ".py",
   "mimetype": "text/x-python",
   "name": "python",
   "nbconvert_exporter": "python",
   "pygments_lexer": "ipython3",
   "version": "3.8.10"
  }
 },
 "nbformat": 4,
 "nbformat_minor": 4
}
